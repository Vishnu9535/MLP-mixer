{
 "cells": [
  {
   "cell_type": "code",
   "execution_count": 825,
   "metadata": {},
   "outputs": [],
   "source": [
    "import numpy as np\n",
    "    \n",
    "from tensorflow.keras.models import Sequential\n",
    "from tensorflow.keras.layers import LSTM, Dense,Dropout\n",
    "from sklearn.preprocessing import MinMaxScaler\n",
    "from tensorflow.keras.callbacks import EarlyStopping\n"
   ]
  },
  {
   "cell_type": "code",
   "execution_count": 826,
   "metadata": {},
   "outputs": [],
   "source": [
    "import pandas as pd"
   ]
  },
  {
   "cell_type": "code",
   "execution_count": 827,
   "metadata": {},
   "outputs": [
    {
     "name": "stdout",
     "output_type": "stream",
     "text": [
      "Open_Price     85.00\n",
      "High_Price     90.00\n",
      "Low_Price      81.00\n",
      "Volume         10.00\n",
      "Close_Price    83.52\n",
      "dtype: float64\n"
     ]
    }
   ],
   "source": [
    "data = pd.read_csv(r'C:\\Users\\vishn\\OneDrive\\Documents\\tsmixer\\tsmixer\\tsmixer_basic\\nfitybees\\non_normalized.csv')\n",
    "\n",
    "# Normalize the data\n",
    "columns_to_normalize = ['Open_Price', 'High_Price', 'Low_Price', 'Volume','Close_Price']\n",
    "minimum = data[columns_to_normalize].min()\n",
    "maximum = data[columns_to_normalize].max()\n",
    "\n",
    "data.columns\n",
    "print(minimum)"
   ]
  },
  {
   "cell_type": "code",
   "execution_count": 828,
   "metadata": {},
   "outputs": [
    {
     "name": "stdout",
     "output_type": "stream",
     "text": [
      "            date  Open_Price  High_Price  Low_Price    Volume  Close_Price\n",
      "0     01-08-2002    0.028926    0.024896   0.023187  0.006023     0.023184\n",
      "1     01-09-2002    0.023554    0.019502   0.022521  0.033657     0.021199\n",
      "2     01-10-2002    0.019835    0.016473   0.022896  0.003753     0.021116\n",
      "3     01-11-2002    0.019835    0.016473   0.022146  0.003774     0.020331\n",
      "4     01/14/2002    0.020579    0.017801   0.023853  0.001891     0.022440\n",
      "...          ...         ...         ...        ...       ...          ...\n",
      "5225  12/26/2022    0.093810    0.090050   0.094746  0.186498     0.094051\n",
      "5226  12/27/2022    0.094140    0.090382   0.096228  0.136420     0.094688\n",
      "5227  12/28/2022    0.094174    0.090415   0.096586  0.096100     0.094680\n",
      "5228  12/29/2022    0.093306    0.090523   0.096378  0.121363     0.095333\n",
      "5229  12/30/2022    0.094959    0.091402   0.097161  0.088911     0.094721\n",
      "\n",
      "[5230 rows x 6 columns]\n"
     ]
    }
   ],
   "source": [
    "from sklearn.preprocessing import MinMaxScaler\n",
    "\n",
    "# Create a MinMaxScaler object\n",
    "scaler = MinMaxScaler()\n",
    "\n",
    "# Normalize the columns\n",
    "columns_to_normalize = ['Open_Price', 'High_Price', 'Low_Price', 'Volume','Close_Price']\n",
    "data[columns_to_normalize] = scaler.fit_transform(data[columns_to_normalize])\n",
    "\n",
    "# Print the normalized data\n",
    "print(data)\n",
    "\n"
   ]
  },
  {
   "cell_type": "code",
   "execution_count": null,
   "metadata": {},
   "outputs": [],
   "source": []
  },
  {
   "cell_type": "code",
   "execution_count": 829,
   "metadata": {},
   "outputs": [
    {
     "name": "stdout",
     "output_type": "stream",
     "text": [
      "Open_Price     0.0\n",
      "High_Price     0.0\n",
      "Low_Price      0.0\n",
      "Volume         0.0\n",
      "Close_Price    0.0\n",
      "dtype: float64\n"
     ]
    }
   ],
   "source": [
    "print(data[columns_to_normalize].min())"
   ]
  },
  {
   "cell_type": "code",
   "execution_count": 830,
   "metadata": {},
   "outputs": [
    {
     "data": {
      "text/plain": [
       "Open_Price     1.0\n",
       "High_Price     1.0\n",
       "Low_Price      1.0\n",
       "Volume         1.0\n",
       "Close_Price    1.0\n",
       "dtype: float64"
      ]
     },
     "execution_count": 830,
     "metadata": {},
     "output_type": "execute_result"
    }
   ],
   "source": [
    "data[columns_to_normalize].max()"
   ]
  },
  {
   "cell_type": "code",
   "execution_count": 831,
   "metadata": {},
   "outputs": [
    {
     "data": {
      "text/html": [
       "<div>\n",
       "<style scoped>\n",
       "    .dataframe tbody tr th:only-of-type {\n",
       "        vertical-align: middle;\n",
       "    }\n",
       "\n",
       "    .dataframe tbody tr th {\n",
       "        vertical-align: top;\n",
       "    }\n",
       "\n",
       "    .dataframe thead th {\n",
       "        text-align: right;\n",
       "    }\n",
       "</style>\n",
       "<table border=\"1\" class=\"dataframe\">\n",
       "  <thead>\n",
       "    <tr style=\"text-align: right;\">\n",
       "      <th></th>\n",
       "      <th>date</th>\n",
       "      <th>Open_Price</th>\n",
       "      <th>High_Price</th>\n",
       "      <th>Low_Price</th>\n",
       "      <th>Volume</th>\n",
       "      <th>Close_Price</th>\n",
       "    </tr>\n",
       "  </thead>\n",
       "  <tbody>\n",
       "    <tr>\n",
       "      <th>0</th>\n",
       "      <td>01-08-2002</td>\n",
       "      <td>0.028926</td>\n",
       "      <td>0.024896</td>\n",
       "      <td>0.023187</td>\n",
       "      <td>0.006023</td>\n",
       "      <td>0.023184</td>\n",
       "    </tr>\n",
       "    <tr>\n",
       "      <th>1</th>\n",
       "      <td>01-09-2002</td>\n",
       "      <td>0.023554</td>\n",
       "      <td>0.019502</td>\n",
       "      <td>0.022521</td>\n",
       "      <td>0.033657</td>\n",
       "      <td>0.021199</td>\n",
       "    </tr>\n",
       "    <tr>\n",
       "      <th>2</th>\n",
       "      <td>01-10-2002</td>\n",
       "      <td>0.019835</td>\n",
       "      <td>0.016473</td>\n",
       "      <td>0.022896</td>\n",
       "      <td>0.003753</td>\n",
       "      <td>0.021116</td>\n",
       "    </tr>\n",
       "    <tr>\n",
       "      <th>3</th>\n",
       "      <td>01-11-2002</td>\n",
       "      <td>0.019835</td>\n",
       "      <td>0.016473</td>\n",
       "      <td>0.022146</td>\n",
       "      <td>0.003774</td>\n",
       "      <td>0.020331</td>\n",
       "    </tr>\n",
       "    <tr>\n",
       "      <th>4</th>\n",
       "      <td>01/14/2002</td>\n",
       "      <td>0.020579</td>\n",
       "      <td>0.017801</td>\n",
       "      <td>0.023853</td>\n",
       "      <td>0.001891</td>\n",
       "      <td>0.022440</td>\n",
       "    </tr>\n",
       "  </tbody>\n",
       "</table>\n",
       "</div>"
      ],
      "text/plain": [
       "         date  Open_Price  High_Price  Low_Price    Volume  Close_Price\n",
       "0  01-08-2002    0.028926    0.024896   0.023187  0.006023     0.023184\n",
       "1  01-09-2002    0.023554    0.019502   0.022521  0.033657     0.021199\n",
       "2  01-10-2002    0.019835    0.016473   0.022896  0.003753     0.021116\n",
       "3  01-11-2002    0.019835    0.016473   0.022146  0.003774     0.020331\n",
       "4  01/14/2002    0.020579    0.017801   0.023853  0.001891     0.022440"
      ]
     },
     "execution_count": 831,
     "metadata": {},
     "output_type": "execute_result"
    }
   ],
   "source": [
    "data.head()"
   ]
  },
  {
   "cell_type": "code",
   "execution_count": null,
   "metadata": {},
   "outputs": [],
   "source": [
    "\n"
   ]
  },
  {
   "cell_type": "code",
   "execution_count": 832,
   "metadata": {},
   "outputs": [],
   "source": [
    "sequence_length = 3"
   ]
  },
  {
   "cell_type": "code",
   "execution_count": 833,
   "metadata": {},
   "outputs": [
    {
     "data": {
      "text/html": [
       "<div>\n",
       "<style scoped>\n",
       "    .dataframe tbody tr th:only-of-type {\n",
       "        vertical-align: middle;\n",
       "    }\n",
       "\n",
       "    .dataframe tbody tr th {\n",
       "        vertical-align: top;\n",
       "    }\n",
       "\n",
       "    .dataframe thead th {\n",
       "        text-align: right;\n",
       "    }\n",
       "</style>\n",
       "<table border=\"1\" class=\"dataframe\">\n",
       "  <thead>\n",
       "    <tr style=\"text-align: right;\">\n",
       "      <th></th>\n",
       "      <th>date</th>\n",
       "      <th>Open_Price</th>\n",
       "      <th>High_Price</th>\n",
       "      <th>Low_Price</th>\n",
       "      <th>Volume</th>\n",
       "      <th>Close_Price</th>\n",
       "    </tr>\n",
       "  </thead>\n",
       "  <tbody>\n",
       "    <tr>\n",
       "      <th>0</th>\n",
       "      <td>01-08-2002</td>\n",
       "      <td>0.028926</td>\n",
       "      <td>0.024896</td>\n",
       "      <td>0.023187</td>\n",
       "      <td>0.006023</td>\n",
       "      <td>0.023184</td>\n",
       "    </tr>\n",
       "    <tr>\n",
       "      <th>1</th>\n",
       "      <td>01-09-2002</td>\n",
       "      <td>0.023554</td>\n",
       "      <td>0.019502</td>\n",
       "      <td>0.022521</td>\n",
       "      <td>0.033657</td>\n",
       "      <td>0.021199</td>\n",
       "    </tr>\n",
       "    <tr>\n",
       "      <th>2</th>\n",
       "      <td>01-10-2002</td>\n",
       "      <td>0.019835</td>\n",
       "      <td>0.016473</td>\n",
       "      <td>0.022896</td>\n",
       "      <td>0.003753</td>\n",
       "      <td>0.021116</td>\n",
       "    </tr>\n",
       "    <tr>\n",
       "      <th>3</th>\n",
       "      <td>01-11-2002</td>\n",
       "      <td>0.019835</td>\n",
       "      <td>0.016473</td>\n",
       "      <td>0.022146</td>\n",
       "      <td>0.003774</td>\n",
       "      <td>0.020331</td>\n",
       "    </tr>\n",
       "    <tr>\n",
       "      <th>4</th>\n",
       "      <td>01/14/2002</td>\n",
       "      <td>0.020579</td>\n",
       "      <td>0.017801</td>\n",
       "      <td>0.023853</td>\n",
       "      <td>0.001891</td>\n",
       "      <td>0.022440</td>\n",
       "    </tr>\n",
       "  </tbody>\n",
       "</table>\n",
       "</div>"
      ],
      "text/plain": [
       "         date  Open_Price  High_Price  Low_Price    Volume  Close_Price\n",
       "0  01-08-2002    0.028926    0.024896   0.023187  0.006023     0.023184\n",
       "1  01-09-2002    0.023554    0.019502   0.022521  0.033657     0.021199\n",
       "2  01-10-2002    0.019835    0.016473   0.022896  0.003753     0.021116\n",
       "3  01-11-2002    0.019835    0.016473   0.022146  0.003774     0.020331\n",
       "4  01/14/2002    0.020579    0.017801   0.023853  0.001891     0.022440"
      ]
     },
     "execution_count": 833,
     "metadata": {},
     "output_type": "execute_result"
    }
   ],
   "source": [
    "data.head()"
   ]
  },
  {
   "cell_type": "code",
   "execution_count": 834,
   "metadata": {},
   "outputs": [],
   "source": [
    "def prepare_sequences(data, sequence_length):\n",
    "    X, y, dates = [], [], []\n",
    "    for i in range(len(data) - sequence_length):\n",
    "        X.append(data.iloc[i:i+sequence_length, 1:].values)\n",
    "        y.append(data.iloc[i+sequence_length]['Close_Price'])\n",
    "        dates.append(data.iloc[i+sequence_length]['date'])\n",
    "    return np.array(X), np.array(y), np.array(dates)\n"
   ]
  },
  {
   "cell_type": "code",
   "execution_count": null,
   "metadata": {},
   "outputs": [],
   "source": []
  },
  {
   "cell_type": "code",
   "execution_count": 835,
   "metadata": {},
   "outputs": [],
   "source": [
    "X, y, dates = prepare_sequences(data, sequence_length)\n"
   ]
  },
  {
   "cell_type": "code",
   "execution_count": 836,
   "metadata": {},
   "outputs": [
    {
     "data": {
      "text/plain": [
       "(5227, 3, 5)"
      ]
     },
     "execution_count": 836,
     "metadata": {},
     "output_type": "execute_result"
    }
   ],
   "source": [
    "X.shape"
   ]
  },
  {
   "cell_type": "code",
   "execution_count": 837,
   "metadata": {},
   "outputs": [
    {
     "name": "stdout",
     "output_type": "stream",
     "text": [
      "Input sequences:\n",
      "[[[0.02892562 0.02489627 0.02318708 0.00602298 0.02318407]\n",
      "  [0.02355372 0.01950207 0.02252102 0.03365653 0.02119899]\n",
      "  [0.01983471 0.01647303 0.02289568 0.00375277 0.02111628]]\n",
      "\n",
      " [[0.02355372 0.01950207 0.02252102 0.03365653 0.02119899]\n",
      "  [0.01983471 0.01647303 0.02289568 0.00375277 0.02111628]\n",
      "  [0.01983471 0.01647303 0.02214637 0.00377367 0.02033052]]\n",
      "\n",
      " [[0.01983471 0.01647303 0.02289568 0.00375277 0.02111628]\n",
      "  [0.01983471 0.01647303 0.02214637 0.00377367 0.02033052]\n",
      "  [0.02057851 0.01780083 0.02385313 0.00189123 0.02243966]]\n",
      "\n",
      " ...\n",
      "\n",
      " [[0.09622314 0.09247303 0.09474648 0.4580014  0.09233098]\n",
      "  [0.09380992 0.09004979 0.09474648 0.1864983  0.09405138]\n",
      "  [0.0941405  0.09038174 0.09622846 0.13642007 0.09468826]]\n",
      "\n",
      " [[0.09380992 0.09004979 0.09474648 0.1864983  0.09405138]\n",
      "  [0.0941405  0.09038174 0.09622846 0.13642007 0.09468826]\n",
      "  [0.09417355 0.09041494 0.09658646 0.09609954 0.09467999]]\n",
      "\n",
      " [[0.0941405  0.09038174 0.09622846 0.13642007 0.09468826]\n",
      "  [0.09417355 0.09041494 0.09658646 0.09609954 0.09467999]\n",
      "  [0.09330579 0.09052282 0.09637832 0.12136265 0.09533341]]]\n",
      "Target values:\n",
      "[0.02033052 0.02243966 0.02119899 ... 0.09467999 0.09533341 0.09472134]\n"
     ]
    }
   ],
   "source": [
    "print(\"Input sequences:\")\n",
    "print(X)\n",
    "print(\"Target values:\")\n",
    "print(y)"
   ]
  },
  {
   "cell_type": "code",
   "execution_count": 838,
   "metadata": {},
   "outputs": [
    {
     "data": {
      "text/plain": [
       "(5227, 3, 5)"
      ]
     },
     "execution_count": 838,
     "metadata": {},
     "output_type": "execute_result"
    }
   ],
   "source": [
    "X.shape"
   ]
  },
  {
   "cell_type": "code",
   "execution_count": 839,
   "metadata": {},
   "outputs": [
    {
     "name": "stdout",
     "output_type": "stream",
     "text": [
      "Train set size: 3136\n",
      "Validation set size: 784\n",
      "Test set size: 1307\n"
     ]
    }
   ],
   "source": [
    "train_ratio = 0.60\n",
    "val_ratio = 0.15\n",
    "test_ratio = 0.25\n",
    "\n",
    "# Calculate the sizes of each set\n",
    "num_samples = len(X)\n",
    "num_train = int(train_ratio * num_samples)\n",
    "num_val = int(val_ratio * num_samples)\n",
    "num_test = num_samples - num_train - num_val\n",
    "\n",
    "# Split the data\n",
    "X_train, y_train, dates_train = X[:num_train], y[:num_train], dates[:num_train]\n",
    "X_val, y_val, dates_val = X[num_train:num_train+num_val], y[num_train:num_train+num_val], dates[num_train:num_train+num_val]\n",
    "X_test, y_test, dates_test = X[-num_test:], y[-num_test:], dates[-num_test:]\n",
    "\n",
    "# Print the sizes of each set\n",
    "print(\"Train set size:\", len(X_train))\n",
    "print(\"Validation set size:\", len(X_val))\n",
    "print(\"Test set size:\", len(X_test))"
   ]
  },
  {
   "cell_type": "code",
   "execution_count": 840,
   "metadata": {},
   "outputs": [],
   "source": [
    "# from sklearn.preprocessing import MinMaxScaler\n",
    "\n",
    "# # Initialize the MinMaxScaler\n",
    "# scaler = MinMaxScaler()\n",
    "\n",
    "# # Normalize training sequences\n",
    "# X_train_normalized = []\n",
    "# for sequence in X_train:\n",
    "#     scaler.fit(sequence)  # Fit the scaler on each sequence individually\n",
    "#     normalized_sequence = scaler.transform(sequence)  # Transform the sequence\n",
    "#     X_train_normalized.append(normalized_sequence)\n",
    "\n",
    "# # Normalize validation sequences\n",
    "# X_val_normalized = []\n",
    "# for sequence in X_val:\n",
    "#     normalized_sequence = scaler.transform(sequence)  # Use the same scaler as before\n",
    "#     X_val_normalized.append(normalized_sequence)\n",
    "\n",
    "# # Normalize test sequences\n",
    "# X_test_normalized = []\n",
    "# for sequence in X_test:\n",
    "#     normalized_sequence = scaler.transform(sequence)  # Use the same scaler as before\n",
    "#     X_test_normalized.append(normalized_sequence)\n",
    "\n",
    "# # Convert lists to numpy arrays\n",
    "# X_train_normalized = np.array(X_train_normalized)\n",
    "# X_val_normalized = np.array(X_val_normalized)\n",
    "# X_test_normalized = np.array(X_test_normalized)\n"
   ]
  },
  {
   "cell_type": "code",
   "execution_count": 841,
   "metadata": {},
   "outputs": [],
   "source": [
    "import pandas as pd\n",
    "# Create a DataFrame from the dates_test variable\n",
    "df_dates_test = pd.DataFrame(dates_test)\n",
    "\n",
    "# Save the DataFrame to a CSV file\n",
    "df_dates_test.to_csv('dates_test.csv', index=False)\n"
   ]
  },
  {
   "cell_type": "code",
   "execution_count": 842,
   "metadata": {},
   "outputs": [
    {
     "data": {
      "text/plain": [
       "5"
      ]
     },
     "execution_count": 842,
     "metadata": {},
     "output_type": "execute_result"
    }
   ],
   "source": [
    "X_train.shape[2]"
   ]
  },
  {
   "cell_type": "code",
   "execution_count": 843,
   "metadata": {},
   "outputs": [
    {
     "name": "stdout",
     "output_type": "stream",
     "text": [
      "[0.02033052 0.02243966 0.02119899 ... 0.57791434 0.58111528 0.57618567]\n"
     ]
    }
   ],
   "source": [
    "print(y_train)"
   ]
  },
  {
   "cell_type": "code",
   "execution_count": 844,
   "metadata": {},
   "outputs": [
    {
     "name": "stdout",
     "output_type": "stream",
     "text": [
      "[[[0.02892562 0.02489627 0.02318708 0.00602298 0.02318407]\n",
      "  [0.02355372 0.01950207 0.02252102 0.03365653 0.02119899]\n",
      "  [0.01983471 0.01647303 0.02289568 0.00375277 0.02111628]]\n",
      "\n",
      " [[0.02355372 0.01950207 0.02252102 0.03365653 0.02119899]\n",
      "  [0.01983471 0.01647303 0.02289568 0.00375277 0.02111628]\n",
      "  [0.01983471 0.01647303 0.02214637 0.00377367 0.02033052]]\n",
      "\n",
      " [[0.01983471 0.01647303 0.02289568 0.00375277 0.02111628]\n",
      "  [0.01983471 0.01647303 0.02214637 0.00377367 0.02033052]\n",
      "  [0.02057851 0.01780083 0.02385313 0.00189123 0.02243966]]\n",
      "\n",
      " ...\n",
      "\n",
      " [[0.57849587 0.57842324 0.58239947 0.00183159 0.5810822 ]\n",
      "  [0.57933884 0.58008299 0.58363167 0.00095612 0.58284396]\n",
      "  [0.58115702 0.58004149 0.58214137 0.00119424 0.57981671]]\n",
      "\n",
      " [[0.57933884 0.58008299 0.58363167 0.00095612 0.58284396]\n",
      "  [0.58115702 0.58004149 0.58214137 0.00119424 0.57981671]\n",
      "  [0.5785124  0.57925311 0.58084256 0.00148168 0.57791434]]\n",
      "\n",
      " [[0.58115702 0.58004149 0.58214137 0.00119424 0.57981671]\n",
      "  [0.5785124  0.57925311 0.58084256 0.00148168 0.57791434]\n",
      "  [0.57619835 0.57842324 0.57946882 0.00093966 0.58111528]]]\n"
     ]
    }
   ],
   "source": [
    "print(X_train)"
   ]
  },
  {
   "cell_type": "code",
   "execution_count": 845,
   "metadata": {},
   "outputs": [
    {
     "name": "stdout",
     "output_type": "stream",
     "text": [
      "[0.02033052 0.02243966 0.02119899 ... 0.57791434 0.58111528 0.57618567]\n"
     ]
    }
   ],
   "source": [
    "print(y_train)"
   ]
  },
  {
   "cell_type": "code",
   "execution_count": 846,
   "metadata": {},
   "outputs": [],
   "source": [
    "# y_scaler = MinMaxScaler()\n",
    "\n",
    "# # Reshape y_train to match the expected input shape of the scaler\n",
    "# y_train_reshaped = y_train.reshape(-1, 1)\n",
    "\n",
    "# # Fit the scaler on y_train and transform it\n",
    "# y_train_normalized = y_scaler.fit_transform(y_train_reshaped)\n",
    "\n",
    "# # Reshape y_train_normalized back to its original shape\n",
    "# y_train_normalized = y_train_normalized.flatten()\n",
    "# y_val_reshaped = y_val.reshape(-1, 1)\n",
    "# y_test_reshaped = y_test.reshape(-1, 1)\n",
    "\n",
    "# # Normalize y_val and y_test using the same scaler instance\n",
    "# y_val_normalized = y_scaler.transform(y_val_reshaped)\n",
    "# y_test_normalized = y_scaler.transform(y_test_reshaped)\n",
    "\n",
    "# # Flatten the normalized arrays back to their original shape\n",
    "# y_val_normalized = y_val_normalized.flatten()\n",
    "# y_test_normalized = y_test_normalized.flatten()"
   ]
  },
  {
   "cell_type": "code",
   "execution_count": 847,
   "metadata": {},
   "outputs": [],
   "source": [
    "from keras import regularizers\n",
    "model = Sequential()\n",
    "model.add(LSTM(units=50, return_sequences=True, input_shape=(X_train.shape[1], X_train.shape[2])))\n",
    "model.add(Dropout(0.3))\n",
    "model.add(LSTM(units=50))\n",
    "model.add(Dropout(0.3))\n",
    "model.add(Dense(units=1, kernel_regularizer=regularizers.l2(0.01)))\n",
    "model.compile(optimizer='adam', loss='mean_squared_error')"
   ]
  },
  {
   "cell_type": "code",
   "execution_count": null,
   "metadata": {},
   "outputs": [],
   "source": []
  },
  {
   "cell_type": "code",
   "execution_count": 848,
   "metadata": {},
   "outputs": [
    {
     "name": "stdout",
     "output_type": "stream",
     "text": [
      "Epoch 1/100\n",
      "98/98 [==============================] - 3s 9ms/step - loss: 0.0178 - val_loss: 0.0160\n",
      "Epoch 2/100\n",
      "98/98 [==============================] - 0s 3ms/step - loss: 0.0131 - val_loss: 0.0069\n",
      "Epoch 3/100\n",
      "98/98 [==============================] - 0s 3ms/step - loss: 0.0066 - val_loss: 0.0049\n",
      "Epoch 4/100\n",
      "98/98 [==============================] - 0s 3ms/step - loss: 0.0036 - val_loss: 0.0024\n",
      "Epoch 5/100\n",
      "98/98 [==============================] - 0s 3ms/step - loss: 0.0022 - val_loss: 0.0014\n",
      "Epoch 6/100\n",
      "98/98 [==============================] - 0s 3ms/step - loss: 0.0017 - val_loss: 0.0012\n",
      "Epoch 7/100\n",
      "98/98 [==============================] - 0s 3ms/step - loss: 0.0016 - val_loss: 0.0021\n",
      "Epoch 8/100\n",
      "98/98 [==============================] - 0s 3ms/step - loss: 0.0011 - val_loss: 0.0022\n",
      "Epoch 9/100\n",
      "98/98 [==============================] - 0s 3ms/step - loss: 0.0014 - val_loss: 0.0017\n",
      "Epoch 10/100\n",
      "98/98 [==============================] - 0s 3ms/step - loss: 0.0011 - val_loss: 0.0028\n",
      "Epoch 11/100\n",
      "98/98 [==============================] - 0s 3ms/step - loss: 0.0011 - val_loss: 0.0037\n"
     ]
    }
   ],
   "source": [
    "early_stopping = EarlyStopping(monitor='val_loss', patience=5, mode='min', restore_best_weights=True)\n",
    "history = model.fit(X_train, y_train, epochs=100, validation_data=(X_val, y_val), callbacks=[early_stopping], shuffle=False)"
   ]
  },
  {
   "cell_type": "code",
   "execution_count": 849,
   "metadata": {},
   "outputs": [
    {
     "name": "stdout",
     "output_type": "stream",
     "text": [
      "Train Loss: 0.001422397792339325\n",
      "Test Loss: 0.008724111132323742\n"
     ]
    },
    {
     "name": "stderr",
     "output_type": "stream",
     "text": [
      "c:\\Users\\vishn\\AppData\\Local\\Programs\\Python\\Python311\\Lib\\site-packages\\keras\\src\\engine\\training.py:3103: UserWarning: You are saving your model as an HDF5 file via `model.save()`. This file format is considered legacy. We recommend using instead the native Keras format, e.g. `model.save('my_model.keras')`.\n",
      "  saving_api.save_model(\n"
     ]
    }
   ],
   "source": [
    "train_loss = model.evaluate(X_train, y_train, verbose=0)\n",
    "test_loss = model.evaluate(X_test, y_test, verbose=0)\n",
    "print('Train Loss:', train_loss)\n",
    "print('Test Loss:', test_loss)\n",
    "\n",
    "\n",
    "model.save(\"stock_lstm_model.h5\")"
   ]
  },
  {
   "cell_type": "code",
   "execution_count": 850,
   "metadata": {},
   "outputs": [
    {
     "name": "stdout",
     "output_type": "stream",
     "text": [
      "[[[0.02892562 0.02489627 0.02318708 0.00602298 0.02318407]\n",
      "  [0.02355372 0.01950207 0.02252102 0.03365653 0.02119899]\n",
      "  [0.01983471 0.01647303 0.02289568 0.00375277 0.02111628]]\n",
      "\n",
      " [[0.02355372 0.01950207 0.02252102 0.03365653 0.02119899]\n",
      "  [0.01983471 0.01647303 0.02289568 0.00375277 0.02111628]\n",
      "  [0.01983471 0.01647303 0.02214637 0.00377367 0.02033052]]\n",
      "\n",
      " [[0.01983471 0.01647303 0.02289568 0.00375277 0.02111628]\n",
      "  [0.01983471 0.01647303 0.02214637 0.00377367 0.02033052]\n",
      "  [0.02057851 0.01780083 0.02385313 0.00189123 0.02243966]]\n",
      "\n",
      " ...\n",
      "\n",
      " [[0.57849587 0.57842324 0.58239947 0.00183159 0.5810822 ]\n",
      "  [0.57933884 0.58008299 0.58363167 0.00095612 0.58284396]\n",
      "  [0.58115702 0.58004149 0.58214137 0.00119424 0.57981671]]\n",
      "\n",
      " [[0.57933884 0.58008299 0.58363167 0.00095612 0.58284396]\n",
      "  [0.58115702 0.58004149 0.58214137 0.00119424 0.57981671]\n",
      "  [0.5785124  0.57925311 0.58084256 0.00148168 0.57791434]]\n",
      "\n",
      " [[0.58115702 0.58004149 0.58214137 0.00119424 0.57981671]\n",
      "  [0.5785124  0.57925311 0.58084256 0.00148168 0.57791434]\n",
      "  [0.57619835 0.57842324 0.57946882 0.00093966 0.58111528]]]\n"
     ]
    }
   ],
   "source": [
    "print(X_train)"
   ]
  },
  {
   "cell_type": "code",
   "execution_count": 851,
   "metadata": {},
   "outputs": [
    {
     "name": "stdout",
     "output_type": "stream",
     "text": [
      "41/41 [==============================] - 1s 2ms/step\n"
     ]
    }
   ],
   "source": [
    "y_pred = model.predict(X_test)\n"
   ]
  },
  {
   "cell_type": "code",
   "execution_count": 852,
   "metadata": {},
   "outputs": [
    {
     "name": "stdout",
     "output_type": "stream",
     "text": [
      "(1307, 1)\n"
     ]
    }
   ],
   "source": [
    "print(y_pred.shape)"
   ]
  },
  {
   "cell_type": "code",
   "execution_count": 853,
   "metadata": {},
   "outputs": [
    {
     "name": "stdout",
     "output_type": "stream",
     "text": [
      "[0.78095482 0.79002829 0.79916792 ... 0.09467999 0.09533341 0.09472134]\n"
     ]
    }
   ],
   "source": [
    "print(y_test)"
   ]
  },
  {
   "cell_type": "code",
   "execution_count": 854,
   "metadata": {},
   "outputs": [],
   "source": [
    "# y_pred_original = y_scaler.inverse_transform(y_pred.reshape(-1, 1))\n",
    "# y_test_original = y_scaler.inverse_transform(y_test_normalized.reshape(-1, 1))"
   ]
  },
  {
   "cell_type": "code",
   "execution_count": 855,
   "metadata": {},
   "outputs": [],
   "source": [
    "# print(y_pred_original)\n"
   ]
  },
  {
   "cell_type": "code",
   "execution_count": 856,
   "metadata": {},
   "outputs": [],
   "source": [
    "import pandas as pd\n",
    "y_pred_df = pd.DataFrame(y_pred)\n",
    "y_test_df = pd.DataFrame(y_test)\n"
   ]
  },
  {
   "cell_type": "code",
   "execution_count": 857,
   "metadata": {},
   "outputs": [
    {
     "data": {
      "text/html": [
       "<div>\n",
       "<style scoped>\n",
       "    .dataframe tbody tr th:only-of-type {\n",
       "        vertical-align: middle;\n",
       "    }\n",
       "\n",
       "    .dataframe tbody tr th {\n",
       "        vertical-align: top;\n",
       "    }\n",
       "\n",
       "    .dataframe thead th {\n",
       "        text-align: right;\n",
       "    }\n",
       "</style>\n",
       "<table border=\"1\" class=\"dataframe\">\n",
       "  <thead>\n",
       "    <tr style=\"text-align: right;\">\n",
       "      <th></th>\n",
       "      <th>0</th>\n",
       "    </tr>\n",
       "  </thead>\n",
       "  <tbody>\n",
       "    <tr>\n",
       "      <th>0</th>\n",
       "      <td>0.780955</td>\n",
       "    </tr>\n",
       "    <tr>\n",
       "      <th>1</th>\n",
       "      <td>0.790028</td>\n",
       "    </tr>\n",
       "    <tr>\n",
       "      <th>2</th>\n",
       "      <td>0.799168</td>\n",
       "    </tr>\n",
       "    <tr>\n",
       "      <th>3</th>\n",
       "      <td>0.804321</td>\n",
       "    </tr>\n",
       "    <tr>\n",
       "      <th>4</th>\n",
       "      <td>0.803833</td>\n",
       "    </tr>\n",
       "  </tbody>\n",
       "</table>\n",
       "</div>"
      ],
      "text/plain": [
       "          0\n",
       "0  0.780955\n",
       "1  0.790028\n",
       "2  0.799168\n",
       "3  0.804321\n",
       "4  0.803833"
      ]
     },
     "execution_count": 857,
     "metadata": {},
     "output_type": "execute_result"
    }
   ],
   "source": [
    "y_test_df.head()"
   ]
  },
  {
   "cell_type": "code",
   "execution_count": 858,
   "metadata": {},
   "outputs": [
    {
     "data": {
      "text/html": [
       "<div>\n",
       "<style scoped>\n",
       "    .dataframe tbody tr th:only-of-type {\n",
       "        vertical-align: middle;\n",
       "    }\n",
       "\n",
       "    .dataframe tbody tr th {\n",
       "        vertical-align: top;\n",
       "    }\n",
       "\n",
       "    .dataframe thead th {\n",
       "        text-align: right;\n",
       "    }\n",
       "</style>\n",
       "<table border=\"1\" class=\"dataframe\">\n",
       "  <thead>\n",
       "    <tr style=\"text-align: right;\">\n",
       "      <th></th>\n",
       "      <th>0</th>\n",
       "    </tr>\n",
       "  </thead>\n",
       "  <tbody>\n",
       "    <tr>\n",
       "      <th>0</th>\n",
       "      <td>0.714952</td>\n",
       "    </tr>\n",
       "    <tr>\n",
       "      <th>1</th>\n",
       "      <td>0.717411</td>\n",
       "    </tr>\n",
       "    <tr>\n",
       "      <th>2</th>\n",
       "      <td>0.716015</td>\n",
       "    </tr>\n",
       "    <tr>\n",
       "      <th>3</th>\n",
       "      <td>0.716292</td>\n",
       "    </tr>\n",
       "    <tr>\n",
       "      <th>4</th>\n",
       "      <td>0.718332</td>\n",
       "    </tr>\n",
       "  </tbody>\n",
       "</table>\n",
       "</div>"
      ],
      "text/plain": [
       "          0\n",
       "0  0.714952\n",
       "1  0.717411\n",
       "2  0.716015\n",
       "3  0.716292\n",
       "4  0.718332"
      ]
     },
     "execution_count": 858,
     "metadata": {},
     "output_type": "execute_result"
    }
   ],
   "source": [
    "y_pred_df.head()"
   ]
  },
  {
   "cell_type": "code",
   "execution_count": 859,
   "metadata": {},
   "outputs": [],
   "source": [
    "y_test_df = y_test_df * (maximum['Close_Price'] - minimum['Close_Price']) + minimum['Close_Price']\n",
    "y_pred_df = y_pred_df * (maximum['Close_Price'] - minimum['Close_Price']) + minimum['Close_Price']"
   ]
  },
  {
   "cell_type": "code",
   "execution_count": 860,
   "metadata": {},
   "outputs": [
    {
     "name": "stdout",
     "output_type": "stream",
     "text": [
      "         0\n",
      "0  1027.71\n",
      "1  1038.68\n",
      "2  1049.73\n",
      "3  1055.96\n",
      "4  1055.37\n"
     ]
    }
   ],
   "source": [
    "print(y_test_df.head())\n",
    "y_test_df.to_csv('y_test.csv')\n"
   ]
  },
  {
   "cell_type": "code",
   "execution_count": 861,
   "metadata": {},
   "outputs": [
    {
     "name": "stdout",
     "output_type": "stream",
     "text": [
      "            0\n",
      "0  947.911499\n",
      "1  950.884033\n",
      "2  949.196899\n",
      "3  949.531677\n",
      "4  951.997864\n"
     ]
    }
   ],
   "source": [
    "print(y_pred_df.head())\n",
    "y_pred_df.to_csv('y_pred.csv')"
   ]
  },
  {
   "cell_type": "code",
   "execution_count": 862,
   "metadata": {},
   "outputs": [],
   "source": [
    "from sklearn.metrics import mean_absolute_error, mean_squared_error\n",
    "mae = mean_absolute_error(y_test_df, y_pred_df)\n",
    "mse = mean_squared_error(y_test_df, y_pred_df)\n"
   ]
  },
  {
   "cell_type": "code",
   "execution_count": null,
   "metadata": {},
   "outputs": [],
   "source": []
  },
  {
   "cell_type": "code",
   "execution_count": 863,
   "metadata": {},
   "outputs": [
    {
     "name": "stdout",
     "output_type": "stream",
     "text": [
      "Mean Absolute Error (MAE): 67.1290134084945\n",
      "Mean Squared Error (MSE): 11963.931711914742\n"
     ]
    }
   ],
   "source": [
    "print(\"Mean Absolute Error (MAE):\", mae)\n",
    "print(\"Mean Squared Error (MSE):\", mse)"
   ]
  },
  {
   "cell_type": "code",
   "execution_count": null,
   "metadata": {},
   "outputs": [],
   "source": [
    "\n"
   ]
  },
  {
   "cell_type": "code",
   "execution_count": 864,
   "metadata": {},
   "outputs": [],
   "source": [
    "dates = pd.read_csv('dates_test.csv')\n",
    "# dates_df = pd.to_datetime(dates)"
   ]
  },
  {
   "cell_type": "code",
   "execution_count": 865,
   "metadata": {},
   "outputs": [
    {
     "data": {
      "text/html": [
       "<div>\n",
       "<style scoped>\n",
       "    .dataframe tbody tr th:only-of-type {\n",
       "        vertical-align: middle;\n",
       "    }\n",
       "\n",
       "    .dataframe tbody tr th {\n",
       "        vertical-align: top;\n",
       "    }\n",
       "\n",
       "    .dataframe thead th {\n",
       "        text-align: right;\n",
       "    }\n",
       "</style>\n",
       "<table border=\"1\" class=\"dataframe\">\n",
       "  <thead>\n",
       "    <tr style=\"text-align: right;\">\n",
       "      <th></th>\n",
       "      <th>0</th>\n",
       "    </tr>\n",
       "  </thead>\n",
       "  <tbody>\n",
       "    <tr>\n",
       "      <th>0</th>\n",
       "      <td>10-11-2017</td>\n",
       "    </tr>\n",
       "    <tr>\n",
       "      <th>1</th>\n",
       "      <td>10-12-2017</td>\n",
       "    </tr>\n",
       "    <tr>\n",
       "      <th>2</th>\n",
       "      <td>10/13/2017</td>\n",
       "    </tr>\n",
       "    <tr>\n",
       "      <th>3</th>\n",
       "      <td>10/16/2017</td>\n",
       "    </tr>\n",
       "    <tr>\n",
       "      <th>4</th>\n",
       "      <td>10/17/2017</td>\n",
       "    </tr>\n",
       "    <tr>\n",
       "      <th>...</th>\n",
       "      <td>...</td>\n",
       "    </tr>\n",
       "    <tr>\n",
       "      <th>1302</th>\n",
       "      <td>12/26/2022</td>\n",
       "    </tr>\n",
       "    <tr>\n",
       "      <th>1303</th>\n",
       "      <td>12/27/2022</td>\n",
       "    </tr>\n",
       "    <tr>\n",
       "      <th>1304</th>\n",
       "      <td>12/28/2022</td>\n",
       "    </tr>\n",
       "    <tr>\n",
       "      <th>1305</th>\n",
       "      <td>12/29/2022</td>\n",
       "    </tr>\n",
       "    <tr>\n",
       "      <th>1306</th>\n",
       "      <td>12/30/2022</td>\n",
       "    </tr>\n",
       "  </tbody>\n",
       "</table>\n",
       "<p>1307 rows × 1 columns</p>\n",
       "</div>"
      ],
      "text/plain": [
       "               0\n",
       "0     10-11-2017\n",
       "1     10-12-2017\n",
       "2     10/13/2017\n",
       "3     10/16/2017\n",
       "4     10/17/2017\n",
       "...          ...\n",
       "1302  12/26/2022\n",
       "1303  12/27/2022\n",
       "1304  12/28/2022\n",
       "1305  12/29/2022\n",
       "1306  12/30/2022\n",
       "\n",
       "[1307 rows x 1 columns]"
      ]
     },
     "execution_count": 865,
     "metadata": {},
     "output_type": "execute_result"
    }
   ],
   "source": [
    "dates_df = pd.DataFrame(dates)\n",
    "dates_df"
   ]
  },
  {
   "cell_type": "code",
   "execution_count": 866,
   "metadata": {},
   "outputs": [
    {
     "data": {
      "image/png": "[encoded data removed]",
      "text/plain": [
       "<Figure size 640x480 with 1 Axes>"
      ]
     },
     "metadata": {},
     "output_type": "display_data"
    }
   ],
   "source": [
    "import matplotlib.pyplot as plt\n",
    "\n",
    "# Plotting\n",
    "plt.plot(y_test, label='Actual')\n",
    "plt.plot(y_pred, label='Predicted')\n",
    "plt.xlabel('Index')\n",
    "plt.ylabel('Value')\n",
    "plt.title('Actual vs Predicted')\n",
    "plt.legend()\n",
    "plt.show()\n",
    "\n"
   ]
  },
  {
   "cell_type": "code",
   "execution_count": null,
   "metadata": {},
   "outputs": [],
   "source": [
    "import matplotlib.dates as mdates\n",
    "\n",
    "plt.plot(df['date'],y_test, label='Actual Values')\n",
    "plt.plot(df['date'],predictions, label='Predictions')\n",
    "plt.xlabel('Dates')\n",
    "plt.ylabel('close price')\n",
    "plt.title('Actual Values vs Predictions')\n",
    "plt.legend()\n",
    "plt.gca().xaxis.set_major_locator(mdates.YearLocator(base=1))\n",
    "plt.gca().xaxis.set_major_formatter(mdates.DateFormatter('%Y'))\n",
    "plt.show()"
   ]
  },
  {
   "cell_type": "code",
   "execution_count": 867,
   "metadata": {},
   "outputs": [
    {
     "ename": "TypeError",
     "evalue": "unhashable type: 'numpy.ndarray'",
     "output_type": "error",
     "traceback": [
      "\u001b[1;31m---------------------------------------------------------------------------\u001b[0m",
      "\u001b[1;31mTypeError\u001b[0m                                 Traceback (most recent call last)",
      "Cell \u001b[1;32mIn[867], line 8\u001b[0m\n\u001b[0;32m      5\u001b[0m dates \u001b[38;5;241m=\u001b[39m pd\u001b[38;5;241m.\u001b[39mread_csv(\u001b[38;5;124m'\u001b[39m\u001b[38;5;124mdates_test_final.csv\u001b[39m\u001b[38;5;124m'\u001b[39m)\n\u001b[0;32m      7\u001b[0m \u001b[38;5;66;03m# Plotting\u001b[39;00m\n\u001b[1;32m----> 8\u001b[0m \u001b[43mplt\u001b[49m\u001b[38;5;241;43m.\u001b[39;49m\u001b[43mplot\u001b[49m\u001b[43m(\u001b[49m\u001b[43mdates\u001b[49m\u001b[43m,\u001b[49m\u001b[43m \u001b[49m\u001b[43my_test\u001b[49m\u001b[43m,\u001b[49m\u001b[43m \u001b[49m\u001b[43mlabel\u001b[49m\u001b[38;5;241;43m=\u001b[39;49m\u001b[38;5;124;43m'\u001b[39;49m\u001b[38;5;124;43mActual\u001b[39;49m\u001b[38;5;124;43m'\u001b[39;49m\u001b[43m)\u001b[49m\n\u001b[0;32m      9\u001b[0m plt\u001b[38;5;241m.\u001b[39mplot(dates, y_pred, label\u001b[38;5;241m=\u001b[39m\u001b[38;5;124m'\u001b[39m\u001b[38;5;124mPredicted\u001b[39m\u001b[38;5;124m'\u001b[39m)\n\u001b[0;32m     10\u001b[0m plt\u001b[38;5;241m.\u001b[39mxlabel(\u001b[38;5;124m'\u001b[39m\u001b[38;5;124mDates\u001b[39m\u001b[38;5;124m'\u001b[39m)\n",
      "File \u001b[1;32mc:\\Users\\vishn\\AppData\\Local\\Programs\\Python\\Python311\\Lib\\site-packages\\matplotlib\\pyplot.py:3578\u001b[0m, in \u001b[0;36mplot\u001b[1;34m(scalex, scaley, data, *args, **kwargs)\u001b[0m\n\u001b[0;32m   3570\u001b[0m \u001b[38;5;129m@_copy_docstring_and_deprecators\u001b[39m(Axes\u001b[38;5;241m.\u001b[39mplot)\n\u001b[0;32m   3571\u001b[0m \u001b[38;5;28;01mdef\u001b[39;00m \u001b[38;5;21mplot\u001b[39m(\n\u001b[0;32m   3572\u001b[0m     \u001b[38;5;241m*\u001b[39margs: \u001b[38;5;28mfloat\u001b[39m \u001b[38;5;241m|\u001b[39m ArrayLike \u001b[38;5;241m|\u001b[39m \u001b[38;5;28mstr\u001b[39m,\n\u001b[1;32m   (...)\u001b[0m\n\u001b[0;32m   3576\u001b[0m     \u001b[38;5;241m*\u001b[39m\u001b[38;5;241m*\u001b[39mkwargs,\n\u001b[0;32m   3577\u001b[0m ) \u001b[38;5;241m-\u001b[39m\u001b[38;5;241m>\u001b[39m \u001b[38;5;28mlist\u001b[39m[Line2D]:\n\u001b[1;32m-> 3578\u001b[0m     \u001b[38;5;28;01mreturn\u001b[39;00m \u001b[43mgca\u001b[49m\u001b[43m(\u001b[49m\u001b[43m)\u001b[49m\u001b[38;5;241;43m.\u001b[39;49m\u001b[43mplot\u001b[49m\u001b[43m(\u001b[49m\n\u001b[0;32m   3579\u001b[0m \u001b[43m        \u001b[49m\u001b[38;5;241;43m*\u001b[39;49m\u001b[43margs\u001b[49m\u001b[43m,\u001b[49m\n\u001b[0;32m   3580\u001b[0m \u001b[43m        \u001b[49m\u001b[43mscalex\u001b[49m\u001b[38;5;241;43m=\u001b[39;49m\u001b[43mscalex\u001b[49m\u001b[43m,\u001b[49m\n\u001b[0;32m   3581\u001b[0m \u001b[43m        \u001b[49m\u001b[43mscaley\u001b[49m\u001b[38;5;241;43m=\u001b[39;49m\u001b[43mscaley\u001b[49m\u001b[43m,\u001b[49m\n\u001b[0;32m   3582\u001b[0m \u001b[43m        \u001b[49m\u001b[38;5;241;43m*\u001b[39;49m\u001b[38;5;241;43m*\u001b[39;49m\u001b[43m(\u001b[49m\u001b[43m{\u001b[49m\u001b[38;5;124;43m\"\u001b[39;49m\u001b[38;5;124;43mdata\u001b[39;49m\u001b[38;5;124;43m\"\u001b[39;49m\u001b[43m:\u001b[49m\u001b[43m \u001b[49m\u001b[43mdata\u001b[49m\u001b[43m}\u001b[49m\u001b[43m \u001b[49m\u001b[38;5;28;43;01mif\u001b[39;49;00m\u001b[43m \u001b[49m\u001b[43mdata\u001b[49m\u001b[43m \u001b[49m\u001b[38;5;129;43;01mis\u001b[39;49;00m\u001b[43m \u001b[49m\u001b[38;5;129;43;01mnot\u001b[39;49;00m\u001b[43m \u001b[49m\u001b[38;5;28;43;01mNone\u001b[39;49;00m\u001b[43m \u001b[49m\u001b[38;5;28;43;01melse\u001b[39;49;00m\u001b[43m \u001b[49m\u001b[43m{\u001b[49m\u001b[43m}\u001b[49m\u001b[43m)\u001b[49m\u001b[43m,\u001b[49m\n\u001b[0;32m   3583\u001b[0m \u001b[43m        \u001b[49m\u001b[38;5;241;43m*\u001b[39;49m\u001b[38;5;241;43m*\u001b[39;49m\u001b[43mkwargs\u001b[49m\u001b[43m,\u001b[49m\n\u001b[0;32m   3584\u001b[0m \u001b[43m    \u001b[49m\u001b[43m)\u001b[49m\n",
      "File \u001b[1;32mc:\\Users\\vishn\\AppData\\Local\\Programs\\Python\\Python311\\Lib\\site-packages\\matplotlib\\axes\\_axes.py:1721\u001b[0m, in \u001b[0;36mAxes.plot\u001b[1;34m(self, scalex, scaley, data, *args, **kwargs)\u001b[0m\n\u001b[0;32m   1478\u001b[0m \u001b[38;5;250m\u001b[39m\u001b[38;5;124;03m\"\"\"\u001b[39;00m\n\u001b[0;32m   1479\u001b[0m \u001b[38;5;124;03mPlot y versus x as lines and/or markers.\u001b[39;00m\n\u001b[0;32m   1480\u001b[0m \n\u001b[1;32m   (...)\u001b[0m\n\u001b[0;32m   1718\u001b[0m \u001b[38;5;124;03m(``'green'``) or hex strings (``'#008000'``).\u001b[39;00m\n\u001b[0;32m   1719\u001b[0m \u001b[38;5;124;03m\"\"\"\u001b[39;00m\n\u001b[0;32m   1720\u001b[0m kwargs \u001b[38;5;241m=\u001b[39m cbook\u001b[38;5;241m.\u001b[39mnormalize_kwargs(kwargs, mlines\u001b[38;5;241m.\u001b[39mLine2D)\n\u001b[1;32m-> 1721\u001b[0m lines \u001b[38;5;241m=\u001b[39m [\u001b[38;5;241m*\u001b[39m\u001b[38;5;28mself\u001b[39m\u001b[38;5;241m.\u001b[39m_get_lines(\u001b[38;5;28mself\u001b[39m, \u001b[38;5;241m*\u001b[39margs, data\u001b[38;5;241m=\u001b[39mdata, \u001b[38;5;241m*\u001b[39m\u001b[38;5;241m*\u001b[39mkwargs)]\n\u001b[0;32m   1722\u001b[0m \u001b[38;5;28;01mfor\u001b[39;00m line \u001b[38;5;129;01min\u001b[39;00m lines:\n\u001b[0;32m   1723\u001b[0m     \u001b[38;5;28mself\u001b[39m\u001b[38;5;241m.\u001b[39madd_line(line)\n",
      "File \u001b[1;32mc:\\Users\\vishn\\AppData\\Local\\Programs\\Python\\Python311\\Lib\\site-packages\\matplotlib\\axes\\_base.py:303\u001b[0m, in \u001b[0;36m_process_plot_var_args.__call__\u001b[1;34m(self, axes, data, *args, **kwargs)\u001b[0m\n\u001b[0;32m    301\u001b[0m     this \u001b[38;5;241m+\u001b[39m\u001b[38;5;241m=\u001b[39m args[\u001b[38;5;241m0\u001b[39m],\n\u001b[0;32m    302\u001b[0m     args \u001b[38;5;241m=\u001b[39m args[\u001b[38;5;241m1\u001b[39m:]\n\u001b[1;32m--> 303\u001b[0m \u001b[38;5;28;01myield from\u001b[39;00m \u001b[38;5;28;43mself\u001b[39;49m\u001b[38;5;241;43m.\u001b[39;49m\u001b[43m_plot_args\u001b[49m\u001b[43m(\u001b[49m\n\u001b[0;32m    304\u001b[0m \u001b[43m    \u001b[49m\u001b[43maxes\u001b[49m\u001b[43m,\u001b[49m\u001b[43m \u001b[49m\u001b[43mthis\u001b[49m\u001b[43m,\u001b[49m\u001b[43m \u001b[49m\u001b[43mkwargs\u001b[49m\u001b[43m,\u001b[49m\u001b[43m \u001b[49m\u001b[43mambiguous_fmt_datakey\u001b[49m\u001b[38;5;241;43m=\u001b[39;49m\u001b[43mambiguous_fmt_datakey\u001b[49m\u001b[43m)\u001b[49m\n",
      "File \u001b[1;32mc:\\Users\\vishn\\AppData\\Local\\Programs\\Python\\Python311\\Lib\\site-packages\\matplotlib\\axes\\_base.py:494\u001b[0m, in \u001b[0;36m_process_plot_var_args._plot_args\u001b[1;34m(self, axes, tup, kwargs, return_kwargs, ambiguous_fmt_datakey)\u001b[0m\n\u001b[0;32m    491\u001b[0m     x, y \u001b[38;5;241m=\u001b[39m index_of(xy[\u001b[38;5;241m-\u001b[39m\u001b[38;5;241m1\u001b[39m])\n\u001b[0;32m    493\u001b[0m \u001b[38;5;28;01mif\u001b[39;00m axes\u001b[38;5;241m.\u001b[39mxaxis \u001b[38;5;129;01mis\u001b[39;00m \u001b[38;5;129;01mnot\u001b[39;00m \u001b[38;5;28;01mNone\u001b[39;00m:\n\u001b[1;32m--> 494\u001b[0m     \u001b[43maxes\u001b[49m\u001b[38;5;241;43m.\u001b[39;49m\u001b[43mxaxis\u001b[49m\u001b[38;5;241;43m.\u001b[39;49m\u001b[43mupdate_units\u001b[49m\u001b[43m(\u001b[49m\u001b[43mx\u001b[49m\u001b[43m)\u001b[49m\n\u001b[0;32m    495\u001b[0m \u001b[38;5;28;01mif\u001b[39;00m axes\u001b[38;5;241m.\u001b[39myaxis \u001b[38;5;129;01mis\u001b[39;00m \u001b[38;5;129;01mnot\u001b[39;00m \u001b[38;5;28;01mNone\u001b[39;00m:\n\u001b[0;32m    496\u001b[0m     axes\u001b[38;5;241m.\u001b[39myaxis\u001b[38;5;241m.\u001b[39mupdate_units(y)\n",
      "File \u001b[1;32mc:\\Users\\vishn\\AppData\\Local\\Programs\\Python\\Python311\\Lib\\site-packages\\matplotlib\\axis.py:1712\u001b[0m, in \u001b[0;36mAxis.update_units\u001b[1;34m(self, data)\u001b[0m\n\u001b[0;32m   1710\u001b[0m neednew \u001b[38;5;241m=\u001b[39m \u001b[38;5;28mself\u001b[39m\u001b[38;5;241m.\u001b[39mconverter \u001b[38;5;241m!=\u001b[39m converter\n\u001b[0;32m   1711\u001b[0m \u001b[38;5;28mself\u001b[39m\u001b[38;5;241m.\u001b[39mconverter \u001b[38;5;241m=\u001b[39m converter\n\u001b[1;32m-> 1712\u001b[0m default \u001b[38;5;241m=\u001b[39m \u001b[38;5;28;43mself\u001b[39;49m\u001b[38;5;241;43m.\u001b[39;49m\u001b[43mconverter\u001b[49m\u001b[38;5;241;43m.\u001b[39;49m\u001b[43mdefault_units\u001b[49m\u001b[43m(\u001b[49m\u001b[43mdata\u001b[49m\u001b[43m,\u001b[49m\u001b[43m \u001b[49m\u001b[38;5;28;43mself\u001b[39;49m\u001b[43m)\u001b[49m\n\u001b[0;32m   1713\u001b[0m \u001b[38;5;28;01mif\u001b[39;00m default \u001b[38;5;129;01mis\u001b[39;00m \u001b[38;5;129;01mnot\u001b[39;00m \u001b[38;5;28;01mNone\u001b[39;00m \u001b[38;5;129;01mand\u001b[39;00m \u001b[38;5;28mself\u001b[39m\u001b[38;5;241m.\u001b[39munits \u001b[38;5;129;01mis\u001b[39;00m \u001b[38;5;28;01mNone\u001b[39;00m:\n\u001b[0;32m   1714\u001b[0m     \u001b[38;5;28mself\u001b[39m\u001b[38;5;241m.\u001b[39mset_units(default)\n",
      "File \u001b[1;32mc:\\Users\\vishn\\AppData\\Local\\Programs\\Python\\Python311\\Lib\\site-packages\\matplotlib\\category.py:105\u001b[0m, in \u001b[0;36mStrCategoryConverter.default_units\u001b[1;34m(data, axis)\u001b[0m\n\u001b[0;32m    103\u001b[0m \u001b[38;5;66;03m# the conversion call stack is default_units -> axis_info -> convert\u001b[39;00m\n\u001b[0;32m    104\u001b[0m \u001b[38;5;28;01mif\u001b[39;00m axis\u001b[38;5;241m.\u001b[39munits \u001b[38;5;129;01mis\u001b[39;00m \u001b[38;5;28;01mNone\u001b[39;00m:\n\u001b[1;32m--> 105\u001b[0m     axis\u001b[38;5;241m.\u001b[39mset_units(\u001b[43mUnitData\u001b[49m\u001b[43m(\u001b[49m\u001b[43mdata\u001b[49m\u001b[43m)\u001b[49m)\n\u001b[0;32m    106\u001b[0m \u001b[38;5;28;01melse\u001b[39;00m:\n\u001b[0;32m    107\u001b[0m     axis\u001b[38;5;241m.\u001b[39munits\u001b[38;5;241m.\u001b[39mupdate(data)\n",
      "File \u001b[1;32mc:\\Users\\vishn\\AppData\\Local\\Programs\\Python\\Python311\\Lib\\site-packages\\matplotlib\\category.py:181\u001b[0m, in \u001b[0;36mUnitData.__init__\u001b[1;34m(self, data)\u001b[0m\n\u001b[0;32m    179\u001b[0m \u001b[38;5;28mself\u001b[39m\u001b[38;5;241m.\u001b[39m_counter \u001b[38;5;241m=\u001b[39m itertools\u001b[38;5;241m.\u001b[39mcount()\n\u001b[0;32m    180\u001b[0m \u001b[38;5;28;01mif\u001b[39;00m data \u001b[38;5;129;01mis\u001b[39;00m \u001b[38;5;129;01mnot\u001b[39;00m \u001b[38;5;28;01mNone\u001b[39;00m:\n\u001b[1;32m--> 181\u001b[0m     \u001b[38;5;28;43mself\u001b[39;49m\u001b[38;5;241;43m.\u001b[39;49m\u001b[43mupdate\u001b[49m\u001b[43m(\u001b[49m\u001b[43mdata\u001b[49m\u001b[43m)\u001b[49m\n",
      "File \u001b[1;32mc:\\Users\\vishn\\AppData\\Local\\Programs\\Python\\Python311\\Lib\\site-packages\\matplotlib\\category.py:214\u001b[0m, in \u001b[0;36mUnitData.update\u001b[1;34m(self, data)\u001b[0m\n\u001b[0;32m    212\u001b[0m \u001b[38;5;66;03m# check if convertible to number:\u001b[39;00m\n\u001b[0;32m    213\u001b[0m convertible \u001b[38;5;241m=\u001b[39m \u001b[38;5;28;01mTrue\u001b[39;00m\n\u001b[1;32m--> 214\u001b[0m \u001b[38;5;28;01mfor\u001b[39;00m val \u001b[38;5;129;01min\u001b[39;00m \u001b[43mOrderedDict\u001b[49m\u001b[38;5;241;43m.\u001b[39;49m\u001b[43mfromkeys\u001b[49m\u001b[43m(\u001b[49m\u001b[43mdata\u001b[49m\u001b[43m)\u001b[49m:\n\u001b[0;32m    215\u001b[0m     \u001b[38;5;66;03m# OrderedDict just iterates over unique values in data.\u001b[39;00m\n\u001b[0;32m    216\u001b[0m     _api\u001b[38;5;241m.\u001b[39mcheck_isinstance((\u001b[38;5;28mstr\u001b[39m, \u001b[38;5;28mbytes\u001b[39m), value\u001b[38;5;241m=\u001b[39mval)\n\u001b[0;32m    217\u001b[0m     \u001b[38;5;28;01mif\u001b[39;00m convertible:\n\u001b[0;32m    218\u001b[0m         \u001b[38;5;66;03m# this will only be called so long as convertible is True.\u001b[39;00m\n",
      "\u001b[1;31mTypeError\u001b[0m: unhashable type: 'numpy.ndarray'"
     ]
    },
    {
     "data": {
      "image/png": "[encoded data removed]",
      "text/plain": [
       "<Figure size 640x480 with 1 Axes>"
      ]
     },
     "metadata": {},
     "output_type": "display_data"
    }
   ],
   "source": [
    "import matplotlib.pyplot as plt\n",
    "from datetime import datetime\n",
    "\n",
    "# Read the dates from the CSV file\n",
    "dates = pd.read_csv('dates_test_final.csv')\n",
    "\n",
    "# Plotting\n",
    "plt.plot(dates, y_test, label='Actual')\n",
    "plt.plot(dates, y_pred, label='Predicted')\n",
    "plt.xlabel('Dates')\n",
    "plt.ylabel('Value')\n",
    "plt.title('Actual vs Predicted')\n",
    "plt.legend()\n",
    "plt.show()\n"
   ]
  },
  {
   "cell_type": "code",
   "execution_count": null,
   "metadata": {},
   "outputs": [],
   "source": [
    "import pandas as pd\n",
    "# Read the CSV file\n",
    "dates = pd.read_csv('dates_test_final.csv')\n"
   ]
  },
  {
   "cell_type": "code",
   "execution_count": null,
   "metadata": {},
   "outputs": [],
   "source": []
  },
  {
   "cell_type": "code",
   "execution_count": null,
   "metadata": {},
   "outputs": [],
   "source": []
  }
 ],
 "metadata": {
  "kernelspec": {
   "display_name": "Python 3",
   "language": "python",
   "name": "python3"
  },
  "language_info": {
   "codemirror_mode": {
    "name": "ipython",
    "version": 3
   },
   "file_extension": ".py",
   "mimetype": "text/x-python",
   "name": "python",
   "nbconvert_exporter": "python",
   "pygments_lexer": "ipython3",
   "version": "3.11.5"
  }
 },
 "nbformat": 4,
 "nbformat_minor": 2
}
